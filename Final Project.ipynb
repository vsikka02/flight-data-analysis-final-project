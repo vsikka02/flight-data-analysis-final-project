{
 "cells": [
  {
   "cell_type": "markdown",
   "metadata": {},
   "source": [
    "<h1 style = \"text-align: center\">Airline Data Statistics Final Project</h1>\n",
    "<p style = \"text-align: center\"> By: Vansh Sikka </p>"
   ]
  },
  {
   "cell_type": "markdown",
   "metadata": {},
   "source": [
    "<span style = \"color: red\">Importing all of the Python tools needed for this project!</span>"
   ]
  },
  {
   "cell_type": "code",
   "execution_count": 6,
   "metadata": {},
   "outputs": [],
   "source": [
    "import pandas as pd\n",
    "import numpy as np\n",
    "from scipy.stats import norm, t, binom, geom\n",
    "import matplotlib.pyplot as plt"
   ]
  },
  {
   "cell_type": "markdown",
   "metadata": {},
   "source": [
    "**Step 1:** Loading Dataset: 2015 Flight Delays and Cancellations Data"
   ]
  },
  {
   "cell_type": "code",
   "execution_count": 9,
   "metadata": {},
   "outputs": [
    {
     "name": "stderr",
     "output_type": "stream",
     "text": [
      "/Users/vanshsikka/miniconda3/lib/python3.8/site-packages/IPython/core/interactiveshell.py:3145: DtypeWarning: Columns (7,8) have mixed types.Specify dtype option on import or set low_memory=False.\n",
      "  has_raised = await self.run_ast_nodes(code_ast.body, cell_name,\n"
     ]
    },
    {
     "data": {
      "text/html": [
       "<div>\n",
       "<style scoped>\n",
       "    .dataframe tbody tr th:only-of-type {\n",
       "        vertical-align: middle;\n",
       "    }\n",
       "\n",
       "    .dataframe tbody tr th {\n",
       "        vertical-align: top;\n",
       "    }\n",
       "\n",
       "    .dataframe thead th {\n",
       "        text-align: right;\n",
       "    }\n",
       "</style>\n",
       "<table border=\"1\" class=\"dataframe\">\n",
       "  <thead>\n",
       "    <tr style=\"text-align: right;\">\n",
       "      <th></th>\n",
       "      <th>YEAR</th>\n",
       "      <th>MONTH</th>\n",
       "      <th>DAY</th>\n",
       "      <th>DAY_OF_WEEK</th>\n",
       "      <th>AIRLINE</th>\n",
       "      <th>FLIGHT_NUMBER</th>\n",
       "      <th>TAIL_NUMBER</th>\n",
       "      <th>ORIGIN_AIRPORT</th>\n",
       "      <th>DESTINATION_AIRPORT</th>\n",
       "      <th>SCHEDULED_DEPARTURE</th>\n",
       "      <th>DEPARTURE_TIME</th>\n",
       "      <th>DEPARTURE_DELAY</th>\n",
       "      <th>TAXI_OUT</th>\n",
       "      <th>WHEELS_OFF</th>\n",
       "      <th>SCHEDULED_TIME</th>\n",
       "      <th>ELAPSED_TIME</th>\n",
       "      <th>AIR_TIME</th>\n",
       "      <th>DISTANCE</th>\n",
       "      <th>WHEELS_ON</th>\n",
       "      <th>TAXI_IN</th>\n",
       "      <th>SCHEDULED_ARRIVAL</th>\n",
       "      <th>ARRIVAL_TIME</th>\n",
       "      <th>ARRIVAL_DELAY</th>\n",
       "      <th>DIVERTED</th>\n",
       "      <th>CANCELLED</th>\n",
       "      <th>CANCELLATION_REASON</th>\n",
       "      <th>AIR_SYSTEM_DELAY</th>\n",
       "      <th>SECURITY_DELAY</th>\n",
       "      <th>AIRLINE_DELAY</th>\n",
       "      <th>LATE_AIRCRAFT_DELAY</th>\n",
       "      <th>WEATHER_DELAY</th>\n",
       "    </tr>\n",
       "  </thead>\n",
       "  <tbody>\n",
       "    <tr>\n",
       "      <th>0</th>\n",
       "      <td>2015</td>\n",
       "      <td>1</td>\n",
       "      <td>1</td>\n",
       "      <td>4</td>\n",
       "      <td>AS</td>\n",
       "      <td>98</td>\n",
       "      <td>N407AS</td>\n",
       "      <td>ANC</td>\n",
       "      <td>SEA</td>\n",
       "      <td>5</td>\n",
       "      <td>2354.0</td>\n",
       "      <td>-11.0</td>\n",
       "      <td>21.0</td>\n",
       "      <td>15.0</td>\n",
       "      <td>205.0</td>\n",
       "      <td>194.0</td>\n",
       "      <td>169.0</td>\n",
       "      <td>1448</td>\n",
       "      <td>404.0</td>\n",
       "      <td>4.0</td>\n",
       "      <td>430</td>\n",
       "      <td>408.0</td>\n",
       "      <td>-22.0</td>\n",
       "      <td>0</td>\n",
       "      <td>0</td>\n",
       "      <td>NaN</td>\n",
       "      <td>NaN</td>\n",
       "      <td>NaN</td>\n",
       "      <td>NaN</td>\n",
       "      <td>NaN</td>\n",
       "      <td>NaN</td>\n",
       "    </tr>\n",
       "    <tr>\n",
       "      <th>1</th>\n",
       "      <td>2015</td>\n",
       "      <td>1</td>\n",
       "      <td>1</td>\n",
       "      <td>4</td>\n",
       "      <td>AA</td>\n",
       "      <td>2336</td>\n",
       "      <td>N3KUAA</td>\n",
       "      <td>LAX</td>\n",
       "      <td>PBI</td>\n",
       "      <td>10</td>\n",
       "      <td>2.0</td>\n",
       "      <td>-8.0</td>\n",
       "      <td>12.0</td>\n",
       "      <td>14.0</td>\n",
       "      <td>280.0</td>\n",
       "      <td>279.0</td>\n",
       "      <td>263.0</td>\n",
       "      <td>2330</td>\n",
       "      <td>737.0</td>\n",
       "      <td>4.0</td>\n",
       "      <td>750</td>\n",
       "      <td>741.0</td>\n",
       "      <td>-9.0</td>\n",
       "      <td>0</td>\n",
       "      <td>0</td>\n",
       "      <td>NaN</td>\n",
       "      <td>NaN</td>\n",
       "      <td>NaN</td>\n",
       "      <td>NaN</td>\n",
       "      <td>NaN</td>\n",
       "      <td>NaN</td>\n",
       "    </tr>\n",
       "    <tr>\n",
       "      <th>2</th>\n",
       "      <td>2015</td>\n",
       "      <td>1</td>\n",
       "      <td>1</td>\n",
       "      <td>4</td>\n",
       "      <td>US</td>\n",
       "      <td>840</td>\n",
       "      <td>N171US</td>\n",
       "      <td>SFO</td>\n",
       "      <td>CLT</td>\n",
       "      <td>20</td>\n",
       "      <td>18.0</td>\n",
       "      <td>-2.0</td>\n",
       "      <td>16.0</td>\n",
       "      <td>34.0</td>\n",
       "      <td>286.0</td>\n",
       "      <td>293.0</td>\n",
       "      <td>266.0</td>\n",
       "      <td>2296</td>\n",
       "      <td>800.0</td>\n",
       "      <td>11.0</td>\n",
       "      <td>806</td>\n",
       "      <td>811.0</td>\n",
       "      <td>5.0</td>\n",
       "      <td>0</td>\n",
       "      <td>0</td>\n",
       "      <td>NaN</td>\n",
       "      <td>NaN</td>\n",
       "      <td>NaN</td>\n",
       "      <td>NaN</td>\n",
       "      <td>NaN</td>\n",
       "      <td>NaN</td>\n",
       "    </tr>\n",
       "    <tr>\n",
       "      <th>3</th>\n",
       "      <td>2015</td>\n",
       "      <td>1</td>\n",
       "      <td>1</td>\n",
       "      <td>4</td>\n",
       "      <td>AA</td>\n",
       "      <td>258</td>\n",
       "      <td>N3HYAA</td>\n",
       "      <td>LAX</td>\n",
       "      <td>MIA</td>\n",
       "      <td>20</td>\n",
       "      <td>15.0</td>\n",
       "      <td>-5.0</td>\n",
       "      <td>15.0</td>\n",
       "      <td>30.0</td>\n",
       "      <td>285.0</td>\n",
       "      <td>281.0</td>\n",
       "      <td>258.0</td>\n",
       "      <td>2342</td>\n",
       "      <td>748.0</td>\n",
       "      <td>8.0</td>\n",
       "      <td>805</td>\n",
       "      <td>756.0</td>\n",
       "      <td>-9.0</td>\n",
       "      <td>0</td>\n",
       "      <td>0</td>\n",
       "      <td>NaN</td>\n",
       "      <td>NaN</td>\n",
       "      <td>NaN</td>\n",
       "      <td>NaN</td>\n",
       "      <td>NaN</td>\n",
       "      <td>NaN</td>\n",
       "    </tr>\n",
       "    <tr>\n",
       "      <th>4</th>\n",
       "      <td>2015</td>\n",
       "      <td>1</td>\n",
       "      <td>1</td>\n",
       "      <td>4</td>\n",
       "      <td>AS</td>\n",
       "      <td>135</td>\n",
       "      <td>N527AS</td>\n",
       "      <td>SEA</td>\n",
       "      <td>ANC</td>\n",
       "      <td>25</td>\n",
       "      <td>24.0</td>\n",
       "      <td>-1.0</td>\n",
       "      <td>11.0</td>\n",
       "      <td>35.0</td>\n",
       "      <td>235.0</td>\n",
       "      <td>215.0</td>\n",
       "      <td>199.0</td>\n",
       "      <td>1448</td>\n",
       "      <td>254.0</td>\n",
       "      <td>5.0</td>\n",
       "      <td>320</td>\n",
       "      <td>259.0</td>\n",
       "      <td>-21.0</td>\n",
       "      <td>0</td>\n",
       "      <td>0</td>\n",
       "      <td>NaN</td>\n",
       "      <td>NaN</td>\n",
       "      <td>NaN</td>\n",
       "      <td>NaN</td>\n",
       "      <td>NaN</td>\n",
       "      <td>NaN</td>\n",
       "    </tr>\n",
       "    <tr>\n",
       "      <th>...</th>\n",
       "      <td>...</td>\n",
       "      <td>...</td>\n",
       "      <td>...</td>\n",
       "      <td>...</td>\n",
       "      <td>...</td>\n",
       "      <td>...</td>\n",
       "      <td>...</td>\n",
       "      <td>...</td>\n",
       "      <td>...</td>\n",
       "      <td>...</td>\n",
       "      <td>...</td>\n",
       "      <td>...</td>\n",
       "      <td>...</td>\n",
       "      <td>...</td>\n",
       "      <td>...</td>\n",
       "      <td>...</td>\n",
       "      <td>...</td>\n",
       "      <td>...</td>\n",
       "      <td>...</td>\n",
       "      <td>...</td>\n",
       "      <td>...</td>\n",
       "      <td>...</td>\n",
       "      <td>...</td>\n",
       "      <td>...</td>\n",
       "      <td>...</td>\n",
       "      <td>...</td>\n",
       "      <td>...</td>\n",
       "      <td>...</td>\n",
       "      <td>...</td>\n",
       "      <td>...</td>\n",
       "      <td>...</td>\n",
       "    </tr>\n",
       "    <tr>\n",
       "      <th>5819074</th>\n",
       "      <td>2015</td>\n",
       "      <td>12</td>\n",
       "      <td>31</td>\n",
       "      <td>4</td>\n",
       "      <td>B6</td>\n",
       "      <td>688</td>\n",
       "      <td>N657JB</td>\n",
       "      <td>LAX</td>\n",
       "      <td>BOS</td>\n",
       "      <td>2359</td>\n",
       "      <td>2355.0</td>\n",
       "      <td>-4.0</td>\n",
       "      <td>22.0</td>\n",
       "      <td>17.0</td>\n",
       "      <td>320.0</td>\n",
       "      <td>298.0</td>\n",
       "      <td>272.0</td>\n",
       "      <td>2611</td>\n",
       "      <td>749.0</td>\n",
       "      <td>4.0</td>\n",
       "      <td>819</td>\n",
       "      <td>753.0</td>\n",
       "      <td>-26.0</td>\n",
       "      <td>0</td>\n",
       "      <td>0</td>\n",
       "      <td>NaN</td>\n",
       "      <td>NaN</td>\n",
       "      <td>NaN</td>\n",
       "      <td>NaN</td>\n",
       "      <td>NaN</td>\n",
       "      <td>NaN</td>\n",
       "    </tr>\n",
       "    <tr>\n",
       "      <th>5819075</th>\n",
       "      <td>2015</td>\n",
       "      <td>12</td>\n",
       "      <td>31</td>\n",
       "      <td>4</td>\n",
       "      <td>B6</td>\n",
       "      <td>745</td>\n",
       "      <td>N828JB</td>\n",
       "      <td>JFK</td>\n",
       "      <td>PSE</td>\n",
       "      <td>2359</td>\n",
       "      <td>2355.0</td>\n",
       "      <td>-4.0</td>\n",
       "      <td>17.0</td>\n",
       "      <td>12.0</td>\n",
       "      <td>227.0</td>\n",
       "      <td>215.0</td>\n",
       "      <td>195.0</td>\n",
       "      <td>1617</td>\n",
       "      <td>427.0</td>\n",
       "      <td>3.0</td>\n",
       "      <td>446</td>\n",
       "      <td>430.0</td>\n",
       "      <td>-16.0</td>\n",
       "      <td>0</td>\n",
       "      <td>0</td>\n",
       "      <td>NaN</td>\n",
       "      <td>NaN</td>\n",
       "      <td>NaN</td>\n",
       "      <td>NaN</td>\n",
       "      <td>NaN</td>\n",
       "      <td>NaN</td>\n",
       "    </tr>\n",
       "    <tr>\n",
       "      <th>5819076</th>\n",
       "      <td>2015</td>\n",
       "      <td>12</td>\n",
       "      <td>31</td>\n",
       "      <td>4</td>\n",
       "      <td>B6</td>\n",
       "      <td>1503</td>\n",
       "      <td>N913JB</td>\n",
       "      <td>JFK</td>\n",
       "      <td>SJU</td>\n",
       "      <td>2359</td>\n",
       "      <td>2350.0</td>\n",
       "      <td>-9.0</td>\n",
       "      <td>17.0</td>\n",
       "      <td>7.0</td>\n",
       "      <td>221.0</td>\n",
       "      <td>222.0</td>\n",
       "      <td>197.0</td>\n",
       "      <td>1598</td>\n",
       "      <td>424.0</td>\n",
       "      <td>8.0</td>\n",
       "      <td>440</td>\n",
       "      <td>432.0</td>\n",
       "      <td>-8.0</td>\n",
       "      <td>0</td>\n",
       "      <td>0</td>\n",
       "      <td>NaN</td>\n",
       "      <td>NaN</td>\n",
       "      <td>NaN</td>\n",
       "      <td>NaN</td>\n",
       "      <td>NaN</td>\n",
       "      <td>NaN</td>\n",
       "    </tr>\n",
       "    <tr>\n",
       "      <th>5819077</th>\n",
       "      <td>2015</td>\n",
       "      <td>12</td>\n",
       "      <td>31</td>\n",
       "      <td>4</td>\n",
       "      <td>B6</td>\n",
       "      <td>333</td>\n",
       "      <td>N527JB</td>\n",
       "      <td>MCO</td>\n",
       "      <td>SJU</td>\n",
       "      <td>2359</td>\n",
       "      <td>2353.0</td>\n",
       "      <td>-6.0</td>\n",
       "      <td>10.0</td>\n",
       "      <td>3.0</td>\n",
       "      <td>161.0</td>\n",
       "      <td>157.0</td>\n",
       "      <td>144.0</td>\n",
       "      <td>1189</td>\n",
       "      <td>327.0</td>\n",
       "      <td>3.0</td>\n",
       "      <td>340</td>\n",
       "      <td>330.0</td>\n",
       "      <td>-10.0</td>\n",
       "      <td>0</td>\n",
       "      <td>0</td>\n",
       "      <td>NaN</td>\n",
       "      <td>NaN</td>\n",
       "      <td>NaN</td>\n",
       "      <td>NaN</td>\n",
       "      <td>NaN</td>\n",
       "      <td>NaN</td>\n",
       "    </tr>\n",
       "    <tr>\n",
       "      <th>5819078</th>\n",
       "      <td>2015</td>\n",
       "      <td>12</td>\n",
       "      <td>31</td>\n",
       "      <td>4</td>\n",
       "      <td>B6</td>\n",
       "      <td>839</td>\n",
       "      <td>N534JB</td>\n",
       "      <td>JFK</td>\n",
       "      <td>BQN</td>\n",
       "      <td>2359</td>\n",
       "      <td>14.0</td>\n",
       "      <td>15.0</td>\n",
       "      <td>14.0</td>\n",
       "      <td>28.0</td>\n",
       "      <td>221.0</td>\n",
       "      <td>208.0</td>\n",
       "      <td>189.0</td>\n",
       "      <td>1576</td>\n",
       "      <td>437.0</td>\n",
       "      <td>5.0</td>\n",
       "      <td>440</td>\n",
       "      <td>442.0</td>\n",
       "      <td>2.0</td>\n",
       "      <td>0</td>\n",
       "      <td>0</td>\n",
       "      <td>NaN</td>\n",
       "      <td>NaN</td>\n",
       "      <td>NaN</td>\n",
       "      <td>NaN</td>\n",
       "      <td>NaN</td>\n",
       "      <td>NaN</td>\n",
       "    </tr>\n",
       "  </tbody>\n",
       "</table>\n",
       "<p>5819079 rows × 31 columns</p>\n",
       "</div>"
      ],
      "text/plain": [
       "         YEAR  MONTH  DAY  DAY_OF_WEEK AIRLINE  FLIGHT_NUMBER TAIL_NUMBER  \\\n",
       "0        2015      1    1            4      AS             98      N407AS   \n",
       "1        2015      1    1            4      AA           2336      N3KUAA   \n",
       "2        2015      1    1            4      US            840      N171US   \n",
       "3        2015      1    1            4      AA            258      N3HYAA   \n",
       "4        2015      1    1            4      AS            135      N527AS   \n",
       "...       ...    ...  ...          ...     ...            ...         ...   \n",
       "5819074  2015     12   31            4      B6            688      N657JB   \n",
       "5819075  2015     12   31            4      B6            745      N828JB   \n",
       "5819076  2015     12   31            4      B6           1503      N913JB   \n",
       "5819077  2015     12   31            4      B6            333      N527JB   \n",
       "5819078  2015     12   31            4      B6            839      N534JB   \n",
       "\n",
       "        ORIGIN_AIRPORT DESTINATION_AIRPORT  SCHEDULED_DEPARTURE  \\\n",
       "0                  ANC                 SEA                    5   \n",
       "1                  LAX                 PBI                   10   \n",
       "2                  SFO                 CLT                   20   \n",
       "3                  LAX                 MIA                   20   \n",
       "4                  SEA                 ANC                   25   \n",
       "...                ...                 ...                  ...   \n",
       "5819074            LAX                 BOS                 2359   \n",
       "5819075            JFK                 PSE                 2359   \n",
       "5819076            JFK                 SJU                 2359   \n",
       "5819077            MCO                 SJU                 2359   \n",
       "5819078            JFK                 BQN                 2359   \n",
       "\n",
       "         DEPARTURE_TIME  DEPARTURE_DELAY  TAXI_OUT  WHEELS_OFF  \\\n",
       "0                2354.0            -11.0      21.0        15.0   \n",
       "1                   2.0             -8.0      12.0        14.0   \n",
       "2                  18.0             -2.0      16.0        34.0   \n",
       "3                  15.0             -5.0      15.0        30.0   \n",
       "4                  24.0             -1.0      11.0        35.0   \n",
       "...                 ...              ...       ...         ...   \n",
       "5819074          2355.0             -4.0      22.0        17.0   \n",
       "5819075          2355.0             -4.0      17.0        12.0   \n",
       "5819076          2350.0             -9.0      17.0         7.0   \n",
       "5819077          2353.0             -6.0      10.0         3.0   \n",
       "5819078            14.0             15.0      14.0        28.0   \n",
       "\n",
       "         SCHEDULED_TIME  ELAPSED_TIME  AIR_TIME  DISTANCE  WHEELS_ON  TAXI_IN  \\\n",
       "0                 205.0         194.0     169.0      1448      404.0      4.0   \n",
       "1                 280.0         279.0     263.0      2330      737.0      4.0   \n",
       "2                 286.0         293.0     266.0      2296      800.0     11.0   \n",
       "3                 285.0         281.0     258.0      2342      748.0      8.0   \n",
       "4                 235.0         215.0     199.0      1448      254.0      5.0   \n",
       "...                 ...           ...       ...       ...        ...      ...   \n",
       "5819074           320.0         298.0     272.0      2611      749.0      4.0   \n",
       "5819075           227.0         215.0     195.0      1617      427.0      3.0   \n",
       "5819076           221.0         222.0     197.0      1598      424.0      8.0   \n",
       "5819077           161.0         157.0     144.0      1189      327.0      3.0   \n",
       "5819078           221.0         208.0     189.0      1576      437.0      5.0   \n",
       "\n",
       "         SCHEDULED_ARRIVAL  ARRIVAL_TIME  ARRIVAL_DELAY  DIVERTED  CANCELLED  \\\n",
       "0                      430         408.0          -22.0         0          0   \n",
       "1                      750         741.0           -9.0         0          0   \n",
       "2                      806         811.0            5.0         0          0   \n",
       "3                      805         756.0           -9.0         0          0   \n",
       "4                      320         259.0          -21.0         0          0   \n",
       "...                    ...           ...            ...       ...        ...   \n",
       "5819074                819         753.0          -26.0         0          0   \n",
       "5819075                446         430.0          -16.0         0          0   \n",
       "5819076                440         432.0           -8.0         0          0   \n",
       "5819077                340         330.0          -10.0         0          0   \n",
       "5819078                440         442.0            2.0         0          0   \n",
       "\n",
       "        CANCELLATION_REASON  AIR_SYSTEM_DELAY  SECURITY_DELAY  AIRLINE_DELAY  \\\n",
       "0                       NaN               NaN             NaN            NaN   \n",
       "1                       NaN               NaN             NaN            NaN   \n",
       "2                       NaN               NaN             NaN            NaN   \n",
       "3                       NaN               NaN             NaN            NaN   \n",
       "4                       NaN               NaN             NaN            NaN   \n",
       "...                     ...               ...             ...            ...   \n",
       "5819074                 NaN               NaN             NaN            NaN   \n",
       "5819075                 NaN               NaN             NaN            NaN   \n",
       "5819076                 NaN               NaN             NaN            NaN   \n",
       "5819077                 NaN               NaN             NaN            NaN   \n",
       "5819078                 NaN               NaN             NaN            NaN   \n",
       "\n",
       "         LATE_AIRCRAFT_DELAY  WEATHER_DELAY  \n",
       "0                        NaN            NaN  \n",
       "1                        NaN            NaN  \n",
       "2                        NaN            NaN  \n",
       "3                        NaN            NaN  \n",
       "4                        NaN            NaN  \n",
       "...                      ...            ...  \n",
       "5819074                  NaN            NaN  \n",
       "5819075                  NaN            NaN  \n",
       "5819076                  NaN            NaN  \n",
       "5819077                  NaN            NaN  \n",
       "5819078                  NaN            NaN  \n",
       "\n",
       "[5819079 rows x 31 columns]"
      ]
     },
     "execution_count": 9,
     "metadata": {},
     "output_type": "execute_result"
    }
   ],
   "source": [
    "flights = pd.read_csv('../../flights.csv')\n",
    "pd.set_option('display.max_columns', None)\n",
    "\n",
    "flights"
   ]
  },
  {
   "cell_type": "markdown",
   "metadata": {},
   "source": [
    "<h1>Section 1: Hypothesis Test 1: 2 Means</h1>\n",
    "<br/>(Z-test to compare Population Means)<br/>\n",
    "<br/>\n",
    "Average arrival delay on flights in December from O’Hare International Airport (Chicago) ORD to Los Angeles International Airport LAX, praticularly American Airlines and United Airlines"
   ]
  },
  {
   "cell_type": "markdown",
   "metadata": {},
   "source": [
    "<span style = \"color: red\">The cells below are utilized to filter through the data and retrieve the Data for the Arrival Delay times for flights in December that are going from ORD to LAX with 2 key airlines: American Airlines and United Airlines </span>\n",
    "\n",
    "<br/>**Gathering Data**"
   ]
  },
  {
   "cell_type": "code",
   "execution_count": 10,
   "metadata": {},
   "outputs": [
    {
     "name": "stdout",
     "output_type": "stream",
     "text": [
      "5341787   -33.0\n",
      "5343348   -35.0\n",
      "5344407     0.0\n",
      "5346818   -20.0\n",
      "5348394     2.0\n",
      "           ... \n",
      "5813669    -8.0\n",
      "5815173   -16.0\n",
      "5816347    -7.0\n",
      "5817421    -8.0\n",
      "5818331     5.0\n",
      "Name: ARRIVAL_DELAY, Length: 280, dtype: float64\n"
     ]
    }
   ],
   "source": [
    "#Gathering Data\n",
    "american_arrival = flights.loc[(flights['MONTH'] == 12) & (flights['ORIGIN_AIRPORT'] == 'ORD') & (flights['DESTINATION_AIRPORT'] == 'LAX') &\n",
    "           (flights['AIRLINE'] == 'AA'), 'ARRIVAL_DELAY']\n",
    "#Removing \"nan\" inputs\n",
    "american_arrival = american_arrival[~np.isnan(american_arrival)]\n",
    "print(american_arrival)"
   ]
  },
  {
   "cell_type": "code",
   "execution_count": 11,
   "metadata": {},
   "outputs": [
    {
     "name": "stdout",
     "output_type": "stream",
     "text": [
      "5342177   -34.0\n",
      "5343938   -11.0\n",
      "5345166   -41.0\n",
      "5346638   -16.0\n",
      "5347202    -4.0\n",
      "           ... \n",
      "5812349    -1.0\n",
      "5813682    -2.0\n",
      "5815399   -19.0\n",
      "5816709   -14.0\n",
      "5817847   -19.0\n",
      "Name: ARRIVAL_DELAY, Length: 302, dtype: float64\n"
     ]
    }
   ],
   "source": [
    "united_arrival = flights.loc[(flights['MONTH'] == 12) & (flights['ORIGIN_AIRPORT'] == 'ORD') & (flights['DESTINATION_AIRPORT'] == 'LAX') &\n",
    "           (flights['AIRLINE'] == 'UA'), 'ARRIVAL_DELAY']\n",
    "#Removing \"nan\" inputs\n",
    "united_arrival = united_arrival[~np.isnan(united_arrival)]\n",
    "print(united_arrival)"
   ]
  },
  {
   "cell_type": "markdown",
   "metadata": {},
   "source": [
    "<h3>1.1 Step 0: Check if test assumptions are satisfied.<h3/>"
   ]
  },
  {
   "cell_type": "markdown",
   "metadata": {},
   "source": [
    "We will calculate the size of the American Airlines sample and the United Airlines sample by finding the number of rows that are in the data set which represents the sample sizes."
   ]
  },
  {
   "cell_type": "code",
   "execution_count": 32,
   "metadata": {},
   "outputs": [
    {
     "name": "stdout",
     "output_type": "stream",
     "text": [
      "American Airline's Sample Size - 280 greater than or equal to 30: True\n",
      "United Airline's Sample Size - 302 greater than or equal to 30: True\n"
     ]
    }
   ],
   "source": [
    "american_sample_size = len(american_arrival)\n",
    "print(\"American Airline's Sample Size - \" + str(american_sample_size) + \" greater than or equal to 30: True\")\n",
    "united_sample_size = len(united_arrival)\n",
    "print(\"United Airline's Sample Size - \" + str(united_sample_size) + \" greater than or equal to 30: True\")"
   ]
  },
  {
   "cell_type": "markdown",
   "metadata": {},
   "source": [
    "**Explanation:** Since n1(American Airlines Sample) = 280 and n2(United Airlines Sample) = 302 are larger than 30 we can preform a Z hypothesis test for two means"
   ]
  },
  {
   "cell_type": "markdown",
   "metadata": {},
   "source": [
    "<h3>1.2 Step 1: State the Hypotheses<h3/>"
   ]
  },
  {
   "cell_type": "markdown",
   "metadata": {},
   "source": [
    "**Sample 1:** <p style = \"color: blue\">American Airlines Arrival Data (AA);</p> **Sample 2:** <p style = \"color: red\">United Airlines Arrival Data(UA);</p>\n",
    "<br/><b style = \"font-size: 24px\"><div style = \"text-indent: 15em\">H<sub>0</sub> : $\\mu$ <sub>AA</sub> - $\\mu$ <sub>UA</sub> = 0</div> <div style = \"text-indent: 15em\">H<sub>1</sub> : $\\mu$ <sub>AA</sub> - $\\mu$ <sub>UA</sub> $\\neq$ 0 </div></b>\n",
    "<br/>\n",
    "<p>I chose the alternative hypothesis to be that the difference between the mean arrival delay time of United Airlines and American Airlines to be not equal to 0, because I am concerned with seeing whether there is a difference present between the average arrival delay times between these two airlines in December when traveling from ORD to LAX.</p>"
   ]
  },
  {
   "cell_type": "markdown",
   "metadata": {},
   "source": [
    "<h3>Box Plot</h3>"
   ]
  },
  {
   "cell_type": "code",
   "execution_count": 13,
   "metadata": {},
   "outputs": [
    {
     "data": {
      "image/png": "[encoded data removed]",
      "text/plain": [
       "<Figure size 432x288 with 1 Axes>"
      ]
     },
     "metadata": {
      "needs_background": "light"
     },
     "output_type": "display_data"
    }
   ],
   "source": [
    "plt.boxplot(np.array([american_arrival, united_arrival], object), labels = [\"American Airlines\", \"United Airlines\"])\n",
    "plt.ylabel(\"Arrival Delays on Flights in December (in minutes)\")\n",
    "plt.show()"
   ]
  },
  {
   "cell_type": "markdown",
   "metadata": {},
   "source": [
    "<h3>1.3 Step 2: Compute the Test Statistic</h3>"
   ]
  },
  {
   "cell_type": "markdown",
   "metadata": {},
   "source": [
    "I will compute the test statistic by using the equation:\n",
    "<br/>\n",
    "<p style = \"text-align: center; color: blue;\">\n",
    "<span style = \"font-size: 20px;\">( <sup>x&#772; + y&#772; - (difference in H<sub>0</sub>)</sup>&frasl;<sub><span>&#8730;</span>(<sup>&sigma;<sub>1</sub><sup>2</sup></sup>&frasl;<sub>n<sub>1</sub></sub> + <sup>&sigma;<sub>2</sub><sup>2</sup></sup>&frasl;<sub>n<sub>2</sub></sub>)</sub> )</span>\n",
    "</p>\n",
    "<br/>\n",
    "we can use this equation because with s<sub>1</sub> and s<sub>2</sub> to replace the unkown <span>&sigma;<sub>1</sub></span> and <span>&sigma;<sub>2</sub></span> because we know that n1 and n2 are large."
   ]
  },
  {
   "cell_type": "code",
   "execution_count": 18,
   "metadata": {},
   "outputs": [
    {
     "name": "stdout",
     "output_type": "stream",
     "text": [
      "Z Test Statistic: -1.3926811323141544\n"
     ]
    }
   ],
   "source": [
    "#Calculate the Test Statistic\n",
    "american_mean = american_arrival.mean()\n",
    "united_mean = united_arrival.mean()\n",
    "american_std = american_arrival.std()\n",
    "united_std = united_arrival.std()\n",
    "z_test_statistic = (american_mean - united_mean)/((((american_std**2)/american_sample_size) + ((united_std**2)/united_sample_size))\n",
    "                                   **0.5)\n",
    "print(\"Z Test Statistic: \" + str(z_test_statistic))"
   ]
  },
  {
   "cell_type": "markdown",
   "metadata": {},
   "source": [
    "<p>Our calculated test statistic is <span style = \"color: red\">-1.3926811323141544</span>.</p>"
   ]
  },
  {
   "cell_type": "markdown",
   "metadata": {},
   "source": [
    "<h3>1.4 Step 3: Calculate the P-Value</h3>"
   ]
  },
  {
   "cell_type": "markdown",
   "metadata": {},
   "source": [
    "I will calculate the p-value of the given test statistic by using norm.cdf(-abs(z_test_statistic)) because that will give me the lower tail probability of observing a sample as extreme or more extreme as our data in the direction of the alternative hypothesis ($\\mu$ <sub>AA</sub> - $\\mu$ <sub>UA</sub> $\\neq$ 0) given that our null hypothesis $\\mu$ <sub>AA</sub> - $\\mu$ <sub>UA</sub> = 0 is true. Since the alternative hypothesis is $\\neq$, it is a two sided hypothesis test, so I will multiply norm.cdf(-abs(z_test_statistic)) by 2 in order to get the p value."
   ]
  },
  {
   "cell_type": "code",
   "execution_count": 26,
   "metadata": {},
   "outputs": [
    {
     "name": "stdout",
     "output_type": "stream",
     "text": [
      "P-Value: 0.16371623660393797\n"
     ]
    }
   ],
   "source": [
    "#Calculate the P-Value\n",
    "p_value = 2 * norm.cdf(-abs(z_test_statistic))\n",
    "print(\"P-Value: \" + str(p_value))"
   ]
  },
  {
   "cell_type": "markdown",
   "metadata": {},
   "source": [
    "Through the calculation above, our P-value is <span style = \"color: red\">0.16371623660393797</span>."
   ]
  },
  {
   "cell_type": "markdown",
   "metadata": {},
   "source": [
    "<h3> 1.5 Step 4: State the Conclusion</h3>\n",
    "<br/>Since the P-Value (0.16371623660393797) is greater than our Alpha-Level of 0.05, we fail to reject the Null Hypothesis. We can conclude that the data did not provide sufficient evidence that there is a difference in the average amount of time  that the American Airlines flights are delayed at arrival is not equal to the average amount of time that the United Airlines flights are delayed at arrival"
   ]
  },
  {
   "cell_type": "markdown",
   "metadata": {},
   "source": [
    "<h1>Section 2: Hypothesis Test 2 : 2 Proportions.</h1>\n",
    "<br/>(Z-test to Compare 2 Population Proportions)\n",
    "<br/><br/>\n",
    "Probability of flights delaying over an hour in December from O’Hare International Airport (Chicago) ORD to Los Angeles International Airport LAX."
   ]
  },
  {
   "cell_type": "markdown",
   "metadata": {},
   "source": [
    "<h3>2.1 Step 0: Check if test assumptions are satisfied.<h3/>"
   ]
  },
  {
   "cell_type": "markdown",
   "metadata": {},
   "source": [
    "We will calculate the size of the American Airlines sample and the United Airlines sample by finding the number of rows that are in the data set which represents the sample sizes. In addition to this, we will get the proportions by gathering the mean of all the data points that are greater than 60 minutes (1 hour)."
   ]
  },
  {
   "cell_type": "code",
   "execution_count": 33,
   "metadata": {},
   "outputs": [
    {
     "name": "stdout",
     "output_type": "stream",
     "text": [
      "Proportion of American Flights that have an Arival Delay of more than 1 hours: 0.05357142857142857\n",
      "Proportion of United Flights that have an Arival Delay of more than 1 hours: 0.08609271523178808\n"
     ]
    }
   ],
   "source": [
    "p_hat_american = np.mean(american_arrival > 60)\n",
    "p_hat_united = np.mean(united_arrival > 60)\n",
    "\n",
    "#Computing p_hat here\n",
    "p_hat = ((american_sample_size * p_hat_american) + (united_sample_size * p_hat_united))/(american_sample_size + united_sample_size)\n",
    "print(\"Proportion of American Flights that have an Arival Delay of more than 1 hours: \" + str(p_hat_american))\n",
    "print(\"Proportion of United Flights that have an Arival Delay of more than 1 hours: \" + str(p_hat_united))"
   ]
  },
  {
   "cell_type": "code",
   "execution_count": 34,
   "metadata": {},
   "outputs": [
    {
     "name": "stdout",
     "output_type": "stream",
     "text": [
      "# of American flights that had an Arrival Delay of < 1 hour ~ 15.0 greater than or equal to 10 : True\n",
      "\n",
      "# of American flights that didn't have an Arrival Delay < 1 hour ~ 265.0 greater than or equal to 10 : True\n",
      "\n",
      "# of United flights that had an Arrival Delay < 1 hour ~ 26.0 greater than or equal to 10: True\n",
      "\n",
      "# of United flights that didn't have an Arrival Delay < 1 hour ~ 276.0 greater than or equal to 10: True\n"
     ]
    }
   ],
   "source": [
    "print(\"# of American flights that had an Arrival Delay of < 1 hour ~ \" + str(american_sample_size * p_hat_american) + \" greater than or equal to 10 : True\\n\")\n",
    "print(\"# of American flights that didn't have an Arrival Delay < 1 hour ~ \" + str(american_sample_size * (1-p_hat_american)) + \" greater than or equal to 10 : True\\n\")\n",
    "print(\"# of United flights that had an Arrival Delay < 1 hour ~ \" + str(united_sample_size * p_hat_united) + \" greater than or equal to 10: True\\n\")\n",
    "print(\"# of United flights that didn't have an Arrival Delay < 1 hour ~ \" + str(united_sample_size * (1-p_hat_united)) + \" greater than or equal to 10: True\")"
   ]
  },
  {
   "cell_type": "markdown",
   "metadata": {},
   "source": [
    "**Explanation:** Since the number of American flights that had an Arrival Delay of more than 1 hour late (15 flights) is greater than 10, and the number of American flights that did not have an Arrival Delay of more than 1 hour (265 flights) is greater than 10. In addition to this, the number of United flights that had an Arrival Delay of more than 1 hour (26 fligths) is greater than 10, and the number of United Flights that did not have an Arrival Delay of more than 1 hour (276 flights) is greater than 10, we can preform a Z Hypothesis Test for 2 Proportions."
   ]
  },
  {
   "cell_type": "markdown",
   "metadata": {},
   "source": [
    "<h3>2.2 Step 1: State the Hypotheses<h3/>"
   ]
  },
  {
   "cell_type": "markdown",
   "metadata": {},
   "source": [
    "**Sample 1:** <p style = \"color: blue\">American Airlines Arrival Data (AA);</p> **Sample 2:** <p style = \"color: red\">United Airlines Arrival Data(UA);</p>\n",
    "<br/><b style = \"font-size: 24px\"><div style = \"text-indent: 15em\">H<sub>0</sub> : $p$ <sub>AA</sub> - $p$ <sub>UA</sub> = 0</div> <div style = \"text-indent: 15em\">H<sub>1</sub> : $p$ <sub>AA</sub> - $p$ <sub>UA</sub> $\\neq$ 0 </div></b>\n",
    "<br/>\n",
    "I chose $p$ <sub>AA</sub> - $p$ <sub>UA</sub> $\\neq$ 0 to be my alternative hypothesis because I want to see if there is a difference present in between the proportion of American Airline flights that had an arrival delay of more than 1 hour in December from ORD to LAX compared to United Airlines."
   ]
  },
  {
   "cell_type": "markdown",
   "metadata": {},
   "source": [
    "<h3>2.3 Step 2: Compute the Test Statistic</h3>"
   ]
  },
  {
   "cell_type": "markdown",
   "metadata": {},
   "source": [
    "I will compute the test statistic by utilizing the formula:\n",
    "<br/>\n",
    "<p style = \"text-align: center; color: blue;\">\n",
    "<span style = \"font-size: 20px;\">( <sup>p&#770;<sub>1</sub> - p&#770;<sub>2</sub></sup>&frasl;<sub>&#8730;(p&#770; * ( 1 - p&#770;) * (<sup>1</sup>/<sub>n<sub>1</sub></sub> + <sup>1</sup>/<sub>n<sub>2</sub></sub>))</sub>)</span>\n",
    "</p>\n",
    "<br/>    \n",
    "where p&#770; is equal to: <span style = \"color : orange\"><sup>(n<sub>1</sub> * p<sub>1</sub> + n<sub>2</sub> * p<sub>2</sub>)</sup>/<sub>n<sub>1</sub> + n<sub>2</sub></sub></span>."
   ]
  },
  {
   "cell_type": "code",
   "execution_count": 35,
   "metadata": {},
   "outputs": [
    {
     "name": "stdout",
     "output_type": "stream",
     "text": [
      "Z Test Statistic: -1.5318672735156422\n"
     ]
    }
   ],
   "source": [
    "z_test_statistic1 = (p_hat_american - p_hat_united)/((p_hat * (1 - p_hat) * ((1/american_sample_size) + (1/united_sample_size)))**0.5)\n",
    "print(\"Z Test Statistic: \" + str(z_test_statistic1))"
   ]
  },
  {
   "cell_type": "markdown",
   "metadata": {},
   "source": [
    "<p>Our calculated test statistic is <span style = \"color: red\">-1.5318672735156422</span>.</p>"
   ]
  },
  {
   "cell_type": "markdown",
   "metadata": {},
   "source": [
    "<h3>2.4 Step 3: Calculate the P-Value</h3>"
   ]
  },
  {
   "cell_type": "markdown",
   "metadata": {},
   "source": [
    "I will calculate the p-value of the given test statistic by using norm.cdf(-abs(z_test_statistic)) because that will give me the lower tail probability of observing a sample as extreme or more extreme as our data in the direction of the alternative hypothesis ($p$ <sub>AA</sub> - $p$ <sub>UA</sub> $\\neq$ 0) given that our null hypothesis ($p$ <sub>AA</sub> - $p$ <sub>UA</sub> = 0) is true. Since the alternative hypothesis is $\\neq$, it is a two sided hypothesis test, so I will multiply norm.cdf(-abs(z_test_statistic)) by 2 in order to get the p value."
   ]
  },
  {
   "cell_type": "code",
   "execution_count": 36,
   "metadata": {},
   "outputs": [
    {
     "name": "stdout",
     "output_type": "stream",
     "text": [
      "P-Value: 0.12555519084273978\n"
     ]
    }
   ],
   "source": [
    "p_value1 = 2 * norm.cdf(-abs(z_test_statistic1))\n",
    "print(\"P-Value: \" + str(p_value1))"
   ]
  },
  {
   "cell_type": "markdown",
   "metadata": {},
   "source": [
    "Through the calculation above, our P-value is <span style = \"color: red\">0.12555519084273978</span>."
   ]
  },
  {
   "cell_type": "markdown",
   "metadata": {},
   "source": [
    "<h3> 2.5 Step 4: State the Conclusion</h3>\n",
    "<br/>Since the p-value (0.12555519084273978) is greater than our alpha-level of 0.05, we fail to reject the null hypothesis. We can conclude that the data did not provide sufficient evidence that there is a difference in the probability that a American Airlines flight will have an arrival delay of over an hour in comparison to a United Airlines flight in December from ORD to LAX."
   ]
  },
  {
   "cell_type": "markdown",
   "metadata": {},
   "source": [
    "<h1>Section 3: Hypothesis Test 3 - My Own Hypothesis Test for 2 Means</h1>\n",
    "<br/>(Z-test to compare Population Means)<br/><br/>\n",
    "Average time it takes flights in December to get from O’Hare International Airport (Chicago) ORD to Los Angeles International Airport LAX."
   ]
  },
  {
   "cell_type": "markdown",
   "metadata": {},
   "source": [
    "<h2><span style = \"color: red\">Question:</span> Is there a difference in the average amount of time that United Airlines takes to get from ORD to LAX compared to American Airlines?</h2>"
   ]
  },
  {
   "cell_type": "markdown",
   "metadata": {},
   "source": [
    "<span style = \"color: red\">The cells below are utilized to filter through the data and retrieve the data for the elapsed time for flights in December that are going from ORD to LAX with 2 key airlines: American Airlines and United Airlines </span>\n",
    "\n",
    "**Gather Data**"
   ]
  },
  {
   "cell_type": "code",
   "execution_count": 37,
   "metadata": {},
   "outputs": [
    {
     "name": "stdout",
     "output_type": "stream",
     "text": [
      "5341787    245.0\n",
      "5343348    242.0\n",
      "5344407    243.0\n",
      "5346818    257.0\n",
      "5348394    229.0\n",
      "           ...  \n",
      "5813669    270.0\n",
      "5815173    258.0\n",
      "5816347    274.0\n",
      "5817421    279.0\n",
      "5818331    279.0\n",
      "Name: ELAPSED_TIME, Length: 280, dtype: float64\n"
     ]
    }
   ],
   "source": [
    "american_time = flights.loc[(flights['MONTH'] == 12) & (flights['ORIGIN_AIRPORT'] == 'ORD') & (flights['DESTINATION_AIRPORT'] == 'LAX') &\n",
    "           (flights['AIRLINE'] == 'AA'), 'ELAPSED_TIME']\n",
    "#Removing \"nan\" inputs\n",
    "american_time = american_time[~np.isnan(american_time)]\n",
    "print(american_time)"
   ]
  },
  {
   "cell_type": "code",
   "execution_count": 38,
   "metadata": {},
   "outputs": [
    {
     "name": "stdout",
     "output_type": "stream",
     "text": [
      "5342177    249.0\n",
      "5343938    245.0\n",
      "5345166    242.0\n",
      "5346638    255.0\n",
      "5347202    244.0\n",
      "           ...  \n",
      "5812349    279.0\n",
      "5813682    277.0\n",
      "5815399    263.0\n",
      "5816709    262.0\n",
      "5817847    259.0\n",
      "Name: ELAPSED_TIME, Length: 302, dtype: float64\n"
     ]
    }
   ],
   "source": [
    "united_time = flights.loc[(flights['MONTH'] == 12) & (flights['ORIGIN_AIRPORT'] == 'ORD') & (flights['DESTINATION_AIRPORT'] == 'LAX') &\n",
    "           (flights['AIRLINE'] == 'UA'), 'ELAPSED_TIME']\n",
    "#Removing \"nan\" inputs\n",
    "united_time = united_time[~np.isnan(united_time)]\n",
    "print(united_time)"
   ]
  },
  {
   "cell_type": "markdown",
   "metadata": {},
   "source": [
    "<h3>3.1 Step 0: Check if test assumptions are satisfied.<h3/>"
   ]
  },
  {
   "cell_type": "markdown",
   "metadata": {},
   "source": [
    "We will calculate the size of the American Airlines sample and the United Airlines sample by finding the number of rows that are in the data set which represents the sample sizes."
   ]
  },
  {
   "cell_type": "code",
   "execution_count": 39,
   "metadata": {},
   "outputs": [
    {
     "name": "stdout",
     "output_type": "stream",
     "text": [
      "American Airline's Sample Size - 280 greater than or equal to 30: True\n",
      "United Airline's Sample Size - 302 greater than or equal to 30: True\n"
     ]
    }
   ],
   "source": [
    "#2.1 Step 0: Check if test assumptions are satisfied.\n",
    "american_sample_size2 = len(american_time)\n",
    "print(\"American Airline's Sample Size - \" + str(american_sample_size2) + \" greater than or equal to 30: True\")\n",
    "united_sample_size2 = len(united_time)\n",
    "print(\"United Airline's Sample Size - \" + str(united_sample_size2) + \" greater than or equal to 30: True\")"
   ]
  },
  {
   "cell_type": "markdown",
   "metadata": {},
   "source": [
    "**Explanation:** Since n1(American Airlines Sample) = 280 and n2(United Airlines Sample) = 302 are large we can preform a Z hypothesis test for two means.\n"
   ]
  },
  {
   "cell_type": "markdown",
   "metadata": {},
   "source": [
    "<h3> 3.2 Step 1: State the Hypotheses</h3>"
   ]
  },
  {
   "cell_type": "markdown",
   "metadata": {},
   "source": [
    "**Sample 1:** <p style = \"color: blue\">American Airlines Arrival Data (AA);</p> **Sample 2:** <p style = \"color: red\">United Airlines Arrival Data(UA);</p>\n",
    "<br/><b style = \"font-size: 24px\"><div style = \"text-indent: 15em\">H<sub>0</sub> : $\\mu$ <sub>AA</sub> - $\\mu$ <sub>UA</sub> = 0</div> <div style = \"text-indent: 15em\">H<sub>1</sub> : $\\mu$ <sub>AA</sub> - $\\mu$ <sub>UA</sub> $\\neq$ 0 </div></b><br/>\n",
    "<p>I chose the alternative hypothesis to be that the difference between the mean elapsed time of United Airlines and American Airlines to be not equal to 0, because I am concerned with seeing whether there is a difference present between the average elapsed time that it takes to get from ORD to LAX in December between these two airlines.</p>"
   ]
  },
  {
   "cell_type": "markdown",
   "metadata": {},
   "source": [
    "<h3>3.3 Step 2: Compute the Test Statistic</h3>"
   ]
  },
  {
   "cell_type": "markdown",
   "metadata": {},
   "source": [
    "I will compute the test statistic by using the equation:\n",
    "<br/>\n",
    "<p style = \"text-align: center; color: blue;\">\n",
    "<span style = \"font-size: 20px;\">( <sup>x&#772; + y&#772; - (difference in H<sub>0</sub>)</sup>&frasl;<sub><span>&#8730;</span>(<sup>&sigma;<sub>1</sub><sup>2</sup></sup>&frasl;<sub>n<sub>1</sub></sub> + <sup>&sigma;<sub>2</sub><sup>2</sup></sup>&frasl;<sub>n<sub>2</sub></sub>)</sub> )</span>\n",
    "</p>\n",
    "<br/>\n",
    "we can use this equation because with s<sub>1</sub> and s<sub>2</sub> to replace the unkown <span>&sigma;<sub>1</sub></span> and <span>&sigma;<sub>2</sub></span> because we know that n1 and n2 are large."
   ]
  },
  {
   "cell_type": "code",
   "execution_count": 40,
   "metadata": {},
   "outputs": [
    {
     "name": "stdout",
     "output_type": "stream",
     "text": [
      "Z Test Statistic: 0.2590741598585915\n"
     ]
    }
   ],
   "source": [
    "#Calculate the Test Statistic\n",
    "american_mean2 = american_time.mean()\n",
    "united_mean2 = united_time.mean()\n",
    "american_std2 = american_time.std()\n",
    "united_std2 = united_time.std()\n",
    "z_test_statistic2 = (american_mean2 - united_mean2)/((((american_std2**2)/american_sample_size2) + ((united_std2**2)/united_sample_size2))\n",
    "                                   **0.5)\n",
    "print(\"Z Test Statistic: \" + str(z_test_statistic2))"
   ]
  },
  {
   "cell_type": "markdown",
   "metadata": {},
   "source": [
    "<p>Our calculated test statistic is <span style = \"color: red\">0.2590741598585915</span>.</p>"
   ]
  },
  {
   "cell_type": "markdown",
   "metadata": {},
   "source": [
    "<h3>3.4 Step 3: Calculate the P-Value</h3>"
   ]
  },
  {
   "cell_type": "markdown",
   "metadata": {},
   "source": [
    "I will calculate the p-value of the given test statistic by using norm.cdf(-abs(z_test_statistic)) because that will give me the lower tail probability of observing a sample as extreme or more extreme as our data in the direction of the alternative hypothesis ($\\mu$ <sub>AA</sub> - $\\mu$ <sub>UA</sub> $\\neq$ 0) given that our null hypothesis $\\mu$ <sub>AA</sub> - $\\mu$ <sub>UA</sub> = 0 is true. Since the alternative hypothesis is $\\neq$, it is a two sided hypothesis test, so I will multiply norm.cdf(-abs(z_test_statistic)) by 2 in order to get the p value."
   ]
  },
  {
   "cell_type": "code",
   "execution_count": 43,
   "metadata": {},
   "outputs": [
    {
     "name": "stdout",
     "output_type": "stream",
     "text": [
      "P-Value: 0.7955780217474884\n"
     ]
    }
   ],
   "source": [
    "#Calculate the P-Value\n",
    "p_value2 = 2 * norm.cdf(-abs(z_test_statistic2))\n",
    "print(\"P-Value: \" + str(p_value2))"
   ]
  },
  {
   "cell_type": "markdown",
   "metadata": {},
   "source": [
    "Through the calculation above, our P-value is <span style = \"color: red\">0.7955780217474884</span>."
   ]
  },
  {
   "cell_type": "markdown",
   "metadata": {},
   "source": [
    "<h3> 3.5 Step 4: State the Conclusion</h3>\n",
    "<br/>Since the P-Value (0.7955780217474884) is greater than our Alpha-Level of 0.05, we fail to reject the Null Hypothesis.We can conclude that the data did not provide sufficient evidence that there is a difference in the average amount of time  that the American Airlines flights are delayed at departure is not equal to the average amount of time that the United Airlines flights are delayed at departure."
   ]
  },
  {
   "cell_type": "markdown",
   "metadata": {},
   "source": [
    "<h1>Section 4: Multiple Comparisons</h1>"
   ]
  },
  {
   "cell_type": "markdown",
   "metadata": {},
   "source": [
    "Since these 3 hypothesis tests were all conducted from the same data set, we know that the family wise error rate is m*alpha which simply makes it 3 * 0.05 = 0.15. This means that the probability of making a type 1 error is actually 15% not 5%, so in order to accomodate for this we use Boneferroni Correction and find a new alpha which is equal to alpha/m."
   ]
  },
  {
   "cell_type": "code",
   "execution_count": 47,
   "metadata": {},
   "outputs": [
    {
     "data": {
      "text/plain": [
       "0.016666666666666666"
      ]
     },
     "execution_count": 47,
     "metadata": {},
     "output_type": "execute_result"
    }
   ],
   "source": [
    "bonferroni_alpha = 0.05/3\n",
    "bonferroni_alpha"
   ]
  },
  {
   "cell_type": "markdown",
   "metadata": {},
   "source": [
    "This leads our new alpha level to be 0.01666, so now we must re-analyze all of the hypothesis tests that we conducted."
   ]
  },
  {
   "cell_type": "markdown",
   "metadata": {},
   "source": [
    "<span style = \"color: red\"> Since our P-values stay the same regardless of the alpha level, we simply need to redraw our conclusions based off of this new alpha level</span>"
   ]
  },
  {
   "cell_type": "markdown",
   "metadata": {},
   "source": [
    "<h3>Hypothesis Test 1 Re-evaluation with Alpha-level 0.0166:</h3>\n",
    "<br/>\n",
    "<p>P-value (Calculation shown above in Section 1): <span style = \"color: blue\">0.16371623660393797</span></p>\n",
    "<br/>\n",
    "<b>Conclusion</b>: Since the p-value (0.16371623660393797) is greater than our alpha-level of 0.0166, we fail to reject the null hypothesis. We can conclude that the data did not provide sufficient evidence that there is a difference in the average amount of time that the American Airlines flights are delayed at arrival is not equal to the average amount of time that the United Airlines flights are delayed at arrival"
   ]
  },
  {
   "cell_type": "markdown",
   "metadata": {},
   "source": [
    "<h3>Hypothesis Test 2 Re-evaluation with Alpha-level 0.0166:</h3>\n",
    "<br/>\n",
    "<p>P-value (Calculation shown above in Section 2): <span style = \"color: blue\">0.12555519084273978</span></p>\n",
    "<br/>\n",
    "<b>Conclusion</b>: Since the p-value (0.12555519084273978) is greater than our alpha-level of 0.016666, we fail to reject the null hypothesis. We can conclude that the data did not provide sufficient evidence that there is a difference in the probability that a American Airlines flight will have an arrival delay of over an hour in comparison to a United Airlines flight in December from ORD to LAX."
   ]
  },
  {
   "cell_type": "markdown",
   "metadata": {},
   "source": [
    "<h3>Hypothesis Test 3 Re-evaluation with Alpha-level 0.0166:</h3>\n",
    "<br/>\n",
    "<p>P-value (Calculation shown above in Section 3): <span style = \"color: blue\">0.7955780217474884</span></p>\n",
    "<br/>\n",
    "<b>Conclusion</b>: Since the p-value (0.7955780217474884) is greater than our alpha-level of 0.016666, we fail to reject the Null Hypothesis.We can conclude that the data did not provide sufficient evidence that there is a difference in the average amount of time that the American Airlines flights are delayed at departure is not equal to the average amount of time that the United Airlines flights are delayed at departure"
   ]
  }
 ],
 "metadata": {
  "kernelspec": {
   "display_name": "Python 3",
   "language": "python",
   "name": "python3"
  },
  "language_info": {
   "codemirror_mode": {
    "name": "ipython",
    "version": 3
   },
   "file_extension": ".py",
   "mimetype": "text/x-python",
   "name": "python",
   "nbconvert_exporter": "python",
   "pygments_lexer": "ipython3",
   "version": "3.8.3"
  }
 },
 "nbformat": 4,
 "nbformat_minor": 4
}
